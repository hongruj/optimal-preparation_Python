{
 "cells": [
  {
   "cell_type": "markdown",
   "id": "4061a67d",
   "metadata": {},
   "source": [
    "### Including setup_base params in this notebook\n",
    "### optimization in pytorch"
   ]
  },
  {
   "cell_type": "code",
   "execution_count": 1,
   "id": "9b8492d8",
   "metadata": {},
   "outputs": [],
   "source": [
    "import numpy as np\n",
    "import json\n",
    "import sys\n",
    "import torch\n",
    "from torch import optim\n",
    "from lib.defaults import Main\n",
    "from lib.gramians import Make\n",
    "from lib.dynamics_diff import Dynamics\n",
    "from lib.plotting import plot_out"
   ]
  },
  {
   "cell_type": "code",
   "execution_count": 2,
   "id": "d4987bea",
   "metadata": {},
   "outputs": [],
   "source": [
    "main = Main()\n",
    "G = Make(main.a)\n",
    "\n",
    "# setup_base\n",
    "target = torch.load(\"./velocity.pt\")  #(c,2,t)\n",
    "n_mov = len(target)\n",
    "n_muscles, n_bins = np.array(target[0]).shape\n",
    "xstars_std = 0.2\n",
    "t_max = main.sampling_dt * n_bins\n",
    "\n",
    "# prms\n",
    "n = main.n\n",
    "n_obs = 50   # actually n, but 50 has good result\n",
    "n_e = main.n_e\n",
    "lambda_traj = 1.0 / n_mov\n",
    "lambda_reg = 1.0 / (len(main.m1_slice) * n_muscles)\n",
    "\n",
    "gamma_ = torch.Tensor(main.gamma)\n",
    "reuse = False "
   ]
  },
  {
   "cell_type": "code",
   "execution_count": 3,
   "id": "89022a77",
   "metadata": {},
   "outputs": [],
   "source": [
    "# Spontaneous\n",
    "np.random.seed(2021)\n",
    "spontaneous = (\n",
    "    np.loadtxt('spontaneous.txt') if reuse\n",
    "    else         \n",
    "        (np.random.normal(0, main.spontaneous_std, (n,1))+ main.baseline_rate)   # in accordance with paper\n",
    ")\n",
    "\n",
    "xstars_prms0 = np.random.normal(scale=0.1 / np.sqrt(n), size=(n_obs, n_mov))\n",
    "c_prms0 = np.random.normal(scale=0.1 / np.sqrt(n), size=(n_muscles, n_e))\n",
    "xstars_p_tch = torch.Tensor(xstars_prms0).requires_grad_(True)\n",
    "c_p_tch = torch.Tensor(c_prms0).requires_grad_(True)   \n",
    "# torch\n",
    "spontaneous_ = torch.Tensor(spontaneous)"
   ]
  },
  {
   "cell_type": "code",
   "execution_count": 4,
   "id": "23a78057",
   "metadata": {},
   "outputs": [],
   "source": [
    "def unpack(xstars_prms, c):\n",
    "    # xstars_prms: n_obs * n_mov\n",
    "    # c_prms: n_muscles * n_m1\n",
    "\n",
    "    # Get the top n_obs eigenvectors of the observability Gramian\n",
    "    top_obs = torch.Tensor(G.O.top(n_obs))\n",
    "    z = n * n_mov * xstars_std ** 2\n",
    "\n",
    "    # Calculate xstars and c\n",
    "    xstars = top_obs @ xstars_prms\n",
    "    xstars = torch.sqrt(z / torch.sum(xstars ** 2)) * xstars \n",
    "    xstars_motor = gamma_ @ torch.cat((xstars + spontaneous_, spontaneous_), axis=1) # no gamma\n",
    "    h = torch.linalg.solve(xstars_motor.T @ xstars_motor, xstars_motor.T)\n",
    "    c = c - c @ xstars_motor @ h\n",
    "\n",
    "    return spontaneous_ + xstars, c\n"
   ]
  },
  {
   "cell_type": "code",
   "execution_count": 5,
   "id": "2f4dcbd4",
   "metadata": {},
   "outputs": [],
   "source": [
    "# Trajectory\n",
    "def trajectory(xstar, c):    \n",
    "    r = Dynamics().run(t_max, xstar, spontaneous_, grad = True)\n",
    "    r = torch.stack(r, dim=0)  \n",
    "    out = [c @ gamma_ @ r[:,:,i].T for i in range(n_mov)]\n",
    "    out = torch.stack(out, dim=0) \n",
    "    return r, out"
   ]
  },
  {
   "cell_type": "code",
   "execution_count": 6,
   "id": "c533539f",
   "metadata": {},
   "outputs": [],
   "source": [
    "def loss(vel, target, c):\n",
    "    cost_move = lambda_traj * main.sampling_dt * ((vel - target)**2).sum()\n",
    "    reg = lambda_reg * (c ** 2).sum()\n",
    "    return cost_move + reg"
   ]
  },
  {
   "cell_type": "code",
   "execution_count": 11,
   "id": "b14ad750",
   "metadata": {},
   "outputs": [
    {
     "name": "stdout",
     "output_type": "stream",
     "text": [
      " iteration 457/500 | train loss: 0.00017"
     ]
    },
    {
     "ename": "KeyboardInterrupt",
     "evalue": "",
     "output_type": "error",
     "traceback": [
      "\u001b[1;31m---------------------------------------------------------------------------\u001b[0m",
      "\u001b[1;31mKeyboardInterrupt\u001b[0m                         Traceback (most recent call last)",
      "\u001b[1;32m~\\AppData\\Local\\Temp/ipykernel_11400/966879766.py\u001b[0m in \u001b[0;36m<module>\u001b[1;34m\u001b[0m\n\u001b[0;32m      8\u001b[0m     \u001b[0ml\u001b[0m \u001b[1;33m=\u001b[0m \u001b[0mloss\u001b[0m\u001b[1;33m(\u001b[0m\u001b[0mvel\u001b[0m\u001b[1;33m,\u001b[0m \u001b[0mtarget\u001b[0m\u001b[1;33m,\u001b[0m \u001b[0mc\u001b[0m\u001b[1;33m)\u001b[0m\u001b[1;33m\u001b[0m\u001b[1;33m\u001b[0m\u001b[0m\n\u001b[0;32m      9\u001b[0m     \u001b[0mupdater\u001b[0m\u001b[1;33m.\u001b[0m\u001b[0mzero_grad\u001b[0m\u001b[1;33m(\u001b[0m\u001b[1;33m)\u001b[0m\u001b[1;33m\u001b[0m\u001b[1;33m\u001b[0m\u001b[0m\n\u001b[1;32m---> 10\u001b[1;33m     \u001b[0ml\u001b[0m\u001b[1;33m.\u001b[0m\u001b[0mbackward\u001b[0m\u001b[1;33m(\u001b[0m\u001b[1;33m)\u001b[0m\u001b[1;33m\u001b[0m\u001b[1;33m\u001b[0m\u001b[0m\n\u001b[0m\u001b[0;32m     11\u001b[0m     \u001b[0mupdater\u001b[0m\u001b[1;33m.\u001b[0m\u001b[0mstep\u001b[0m\u001b[1;33m(\u001b[0m\u001b[1;33m)\u001b[0m\u001b[1;33m\u001b[0m\u001b[1;33m\u001b[0m\u001b[0m\n\u001b[0;32m     12\u001b[0m     \u001b[0msys\u001b[0m\u001b[1;33m.\u001b[0m\u001b[0mstdout\u001b[0m\u001b[1;33m.\u001b[0m\u001b[0mwrite\u001b[0m\u001b[1;33m(\u001b[0m\u001b[1;34mf'\\r iteration {it+1}/{n_iter} | train loss: {l.item():.5f}'\u001b[0m\u001b[1;33m)\u001b[0m\u001b[1;33m\u001b[0m\u001b[1;33m\u001b[0m\u001b[0m\n",
      "\u001b[1;32mD:\\anaconda\\envs\\pytorch\\lib\\site-packages\\torch\\_tensor.py\u001b[0m in \u001b[0;36mbackward\u001b[1;34m(self, gradient, retain_graph, create_graph, inputs)\u001b[0m\n\u001b[0;32m    305\u001b[0m                 \u001b[0mcreate_graph\u001b[0m\u001b[1;33m=\u001b[0m\u001b[0mcreate_graph\u001b[0m\u001b[1;33m,\u001b[0m\u001b[1;33m\u001b[0m\u001b[1;33m\u001b[0m\u001b[0m\n\u001b[0;32m    306\u001b[0m                 inputs=inputs)\n\u001b[1;32m--> 307\u001b[1;33m         \u001b[0mtorch\u001b[0m\u001b[1;33m.\u001b[0m\u001b[0mautograd\u001b[0m\u001b[1;33m.\u001b[0m\u001b[0mbackward\u001b[0m\u001b[1;33m(\u001b[0m\u001b[0mself\u001b[0m\u001b[1;33m,\u001b[0m \u001b[0mgradient\u001b[0m\u001b[1;33m,\u001b[0m \u001b[0mretain_graph\u001b[0m\u001b[1;33m,\u001b[0m \u001b[0mcreate_graph\u001b[0m\u001b[1;33m,\u001b[0m \u001b[0minputs\u001b[0m\u001b[1;33m=\u001b[0m\u001b[0minputs\u001b[0m\u001b[1;33m)\u001b[0m\u001b[1;33m\u001b[0m\u001b[1;33m\u001b[0m\u001b[0m\n\u001b[0m\u001b[0;32m    308\u001b[0m \u001b[1;33m\u001b[0m\u001b[0m\n\u001b[0;32m    309\u001b[0m     \u001b[1;32mdef\u001b[0m \u001b[0mregister_hook\u001b[0m\u001b[1;33m(\u001b[0m\u001b[0mself\u001b[0m\u001b[1;33m,\u001b[0m \u001b[0mhook\u001b[0m\u001b[1;33m)\u001b[0m\u001b[1;33m:\u001b[0m\u001b[1;33m\u001b[0m\u001b[1;33m\u001b[0m\u001b[0m\n",
      "\u001b[1;32mD:\\anaconda\\envs\\pytorch\\lib\\site-packages\\torch\\autograd\\__init__.py\u001b[0m in \u001b[0;36mbackward\u001b[1;34m(tensors, grad_tensors, retain_graph, create_graph, grad_variables, inputs)\u001b[0m\n\u001b[0;32m    154\u001b[0m     Variable._execution_engine.run_backward(\n\u001b[0;32m    155\u001b[0m         \u001b[0mtensors\u001b[0m\u001b[1;33m,\u001b[0m \u001b[0mgrad_tensors_\u001b[0m\u001b[1;33m,\u001b[0m \u001b[0mretain_graph\u001b[0m\u001b[1;33m,\u001b[0m \u001b[0mcreate_graph\u001b[0m\u001b[1;33m,\u001b[0m \u001b[0minputs\u001b[0m\u001b[1;33m,\u001b[0m\u001b[1;33m\u001b[0m\u001b[1;33m\u001b[0m\u001b[0m\n\u001b[1;32m--> 156\u001b[1;33m         allow_unreachable=True, accumulate_grad=True)  # allow_unreachable flag\n\u001b[0m\u001b[0;32m    157\u001b[0m \u001b[1;33m\u001b[0m\u001b[0m\n\u001b[0;32m    158\u001b[0m \u001b[1;33m\u001b[0m\u001b[0m\n",
      "\u001b[1;31mKeyboardInterrupt\u001b[0m: "
     ]
    }
   ],
   "source": [
    "n_iter = 500 \n",
    "    # torch  \n",
    "updater = optim.Adam([xstars_p_tch, c_p_tch])  \n",
    "\n",
    "for it in range(n_iter):          \n",
    "    xstars, c = unpack(xstars_p_tch, c_p_tch)\n",
    "    _, vel = trajectory(xstars, c)        \n",
    "    l = loss(vel, target, c)\n",
    "    updater.zero_grad()\n",
    "    l.backward()\n",
    "    updater.step()\n",
    "    sys.stdout.write(f'\\r iteration {it+1}/{n_iter} | train loss: {l.item():.5f}')\n",
    "    sys.stdout.flush()"
   ]
  },
  {
   "cell_type": "code",
   "execution_count": 12,
   "id": "505399e6",
   "metadata": {},
   "outputs": [
    {
     "data": {
      "image/png": "[encoded data removed]",
      "text/plain": [
       "<Figure size 720x324 with 8 Axes>"
      ]
     },
     "metadata": {
      "needs_background": "light"
     },
     "output_type": "display_data"
    }
   ],
   "source": [
    "_, vel = trajectory(xstars, c)  \n",
    "plot_out(vel.detach().numpy())"
   ]
  },
  {
   "cell_type": "code",
   "execution_count": 13,
   "id": "57e8a705",
   "metadata": {},
   "outputs": [],
   "source": [
    "prms = {\n",
    "        'xstars': xstars.detach().numpy().tolist(),\n",
    "        'c': c.detach().numpy().tolist()\n",
    "}\n",
    "with open(\"setup_prms.json\",\"w\", encoding='utf-8') as f: \n",
    "    f.write(  json.dumps(  prms  ,ensure_ascii=False  ) )  \n",
    "np.savetxt('spontaneous.txt',spontaneous)"
   ]
  }
 ],
 "metadata": {
  "kernelspec": {
   "display_name": "Python 3 (ipykernel)",
   "language": "python",
   "name": "python3"
  },
  "language_info": {
   "codemirror_mode": {
    "name": "ipython",
    "version": 3
   },
   "file_extension": ".py",
   "mimetype": "text/x-python",
   "name": "python",
   "nbconvert_exporter": "python",
   "pygments_lexer": "ipython3",
   "version": "3.7.11"
  }
 },
 "nbformat": 4,
 "nbformat_minor": 5
}
