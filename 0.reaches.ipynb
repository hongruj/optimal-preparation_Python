{
 "cells": [
  {
   "cell_type": "markdown",
   "id": "d53bf335",
   "metadata": {},
   "source": [
    "# optimization for velocity pytorch"
   ]
  },
  {
   "cell_type": "code",
   "execution_count": 1,
   "id": "3e9f5a58",
   "metadata": {},
   "outputs": [],
   "source": [
    "from lib.defaults import Main\n",
    "import numpy as np\n",
    "import matplotlib.pyplot as plt\n",
    "from scipy.optimize import minimize\n",
    "import json\n",
    "import torch\n",
    "from torch import optim\n",
    "import torch.nn as nn\n",
    "import sys"
   ]
  },
  {
   "cell_type": "code",
   "execution_count": 2,
   "id": "4fd29c65",
   "metadata": {},
   "outputs": [
    {
     "data": {
      "text/plain": [
       "143.54438871285726"
      ]
     },
     "execution_count": 2,
     "metadata": {},
     "output_type": "execute_result"
    }
   ],
   "source": [
    "angle_i = -36\n",
    "angle_f = 180. + 36\n",
    "radius = 0.2\n",
    "num_reach_combinations = 8 \n",
    "angle = np.deg2rad(np.linspace(angle_i, angle_f, num_reach_combinations))\n",
    "dt = Main().sampling_dt\n",
    "\n",
    "# Constants\n",
    "L1 = 0.3\n",
    "L2 = 0.33\n",
    "I1 = 0.025\n",
    "I2 = 0.045\n",
    "M1 = 1.4\n",
    "M2 = 1.0\n",
    "B11 = 0.05\n",
    "B12 = 0.025\n",
    "B21 = 0.025\n",
    "B22 = 0.05\n",
    "S1 = 0.11\n",
    "S2 = 0.16\n",
    "theta1 = np.deg2rad(10) # Initial theta\n",
    "joint_x = L1 * np.cos(theta1)\n",
    "theta2 = np.arccos(-joint_x / L2) - theta1\n",
    "THETA0 = np.array([theta1, 0, theta2, 0])\n",
    "np.rad2deg(theta2)"
   ]
  },
  {
   "cell_type": "code",
   "execution_count": 3,
   "id": "7b816952",
   "metadata": {},
   "outputs": [],
   "source": [
    "# position y\n",
    "def hand_of(theta):\n",
    "    joint_x = L1 * np.cos(theta[0])\n",
    "    joint_y = L1 * np.sin(theta[0])\n",
    "    joint_x_dot = -L1 * theta[1] * np.sin(theta[0])\n",
    "    joint_y_dot = L1 * theta[1] * np.cos(theta[0])\n",
    "    z = theta[0] + theta[2]\n",
    "    zdot = theta[1] + theta[3]\n",
    "    return np.array([joint_x + L2 * np.cos(z),\n",
    "                     joint_y + L2 * np.sin(z),\n",
    "                     joint_x_dot - L2 * zdot * np.sin(z),\n",
    "                     joint_y_dot + L2 * zdot * np.cos(z)])\n",
    "\n",
    "HAND0 = hand_of(THETA0)"
   ]
  },
  {
   "cell_type": "code",
   "execution_count": 4,
   "id": "a3cc17d6",
   "metadata": {},
   "outputs": [],
   "source": [
    "def speed_profile(t, tau_reach):\n",
    "    def bell(t):        \n",
    "        t = t / tau_reach\n",
    "        return t**2 * np.exp(-(t**2) / 2)\n",
    "    z = bell(tau_reach * np.sqrt(2))\n",
    "    return 1. / z * bell(t)"
   ]
  },
  {
   "cell_type": "code",
   "execution_count": 5,
   "id": "4db77250",
   "metadata": {},
   "outputs": [],
   "source": [
    "ca = np.cos(angle)\n",
    "sa = np.sin(angle)\n",
    "def straight_reach(dt, duration, radius,tau_reach):\n",
    "    n_bins = int(duration / dt)\n",
    "    \n",
    "    def hand_traj(peak_speed):\n",
    "        hand = np.zeros((n_bins, 4, num_reach_combinations))\n",
    "        hand[0] = HAND0[:,None]@np.ones((1,num_reach_combinations))\n",
    "\n",
    "        for t in range(1, n_bins):\n",
    "            radial_speed = peak_speed * speed_profile(dt * t,tau_reach)\n",
    "            x1_dot = ca * radial_speed\n",
    "            x2_dot = sa * radial_speed\n",
    "            hand[t] = np.array([hand[t-1,0,:] + dt*x1_dot, hand[t-1,1,:] + dt*x2_dot, x1_dot, x2_dot])\n",
    "\n",
    "        return hand\n",
    "\n",
    "    def search_peak(peak_speed):\n",
    "        hand_traj_current = hand_traj(peak_speed)\n",
    "        final = hand_traj_current[-1]\n",
    "        achieved_radius = np.sqrt((final[0] - HAND0[0])**2 + (final[1] - HAND0[1])**2)\n",
    "        return np.sum((achieved_radius - radius)**2)\n",
    "    \n",
    "    result = minimize(search_peak, 1.5)\n",
    "    return result.x[0]"
   ]
  },
  {
   "cell_type": "code",
   "execution_count": 8,
   "id": "01d11631",
   "metadata": {},
   "outputs": [],
   "source": [
    "def generate_velocity(tau_reach,range_t,p):\n",
    "    n_bins = len(range_t)\n",
    "    vel = np.zeros((num_reach_combinations, 2, n_bins)) \n",
    "    vx = p *speed_profile(range_t,tau_reach)[:,None] @ ca[None,:] \n",
    "    vy = p *speed_profile(range_t,tau_reach)[:,None] @ sa[None,:]\n",
    "    vel[:,0,:] = vx.T\n",
    "    vel[:,1,:] = vy.T\n",
    "    return vel"
   ]
  },
  {
   "cell_type": "code",
   "execution_count": 11,
   "id": "f334ecbf",
   "metadata": {},
   "outputs": [
    {
     "data": {
      "text/plain": [
       "(8, 2, 1000)"
      ]
     },
     "execution_count": 11,
     "metadata": {},
     "output_type": "execute_result"
    }
   ],
   "source": [
    "vel.shape"
   ]
  },
  {
   "cell_type": "code",
   "execution_count": 12,
   "id": "30f131a8",
   "metadata": {},
   "outputs": [
    {
     "data": {
      "image/png": "[encoded data removed]",
      "text/plain": [
       "<Figure size 432x288 with 1 Axes>"
      ]
     },
     "metadata": {
      "needs_background": "light"
     },
     "output_type": "display_data"
    }
   ],
   "source": [
    "tau_reach = 0.14\n",
    "duration = 1\n",
    "velocity = []\n",
    "\n",
    "p=straight_reach(dt, duration, radius, tau_reach)\n",
    "range_t = np.arange(0,duration,dt)  \n",
    "\n",
    "vel = generate_velocity(tau_reach,range_t,p)\n",
    "\n",
    "plt.plot(vel[:,0,:].T)\n",
    "plt.show()"
   ]
  },
  {
   "cell_type": "code",
   "execution_count": 13,
   "id": "3be0552d",
   "metadata": {},
   "outputs": [],
   "source": [
    "torch.save(torch.from_numpy(vel).float(), \"./velocity.pt\")"
   ]
  },
  {
   "cell_type": "code",
   "execution_count": null,
   "id": "005a1620",
   "metadata": {},
   "outputs": [],
   "source": []
  }
 ],
 "metadata": {
  "kernelspec": {
   "display_name": "Python 3 (ipykernel)",
   "language": "python",
   "name": "python3"
  },
  "language_info": {
   "codemirror_mode": {
    "name": "ipython",
    "version": 3
   },
   "file_extension": ".py",
   "mimetype": "text/x-python",
   "name": "python",
   "nbconvert_exporter": "python",
   "pygments_lexer": "ipython3",
   "version": "3.7.11"
  }
 },
 "nbformat": 4,
 "nbformat_minor": 5
}
